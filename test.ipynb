{
 "cells": [
  {
   "cell_type": "code",
   "execution_count": 216,
   "metadata": {},
   "outputs": [],
   "source": [
    "# login เข้ารหัส\n",
    "import time\n",
    "from selenium import webdriver\n",
    "from selenium.webdriver.common.by import By\n",
    "from selenium.webdriver.common.keys import Keys\n",
    "\n",
    "\n",
    "driver = webdriver.Chrome()\n",
    "driver.get('https://www.netflix.com/th/login')\n",
    "email = driver.find_element(By.NAME,('userLoginId'))\n",
    "email.send_keys('chayapat1786@gmail.com') #เปลี่ยน\n",
    "\n",
    "password = driver.find_element(By.NAME,('password'))\n",
    "password.send_keys('covid69') #เปลี่ยน\n",
    "\n",
    "button= driver.find_element(By.CLASS_NAME,('login-button'))\n",
    "button.click()\n",
    "\n",
    "time.sleep(4)\n",
    "driver.get('https://www.netflix.com/settings/lock/W44TWULSEBDXHIRMQMHAERENSM') #เปลี่ยน\n",
    "re_pass = driver.find_element(By.NAME,('input-account-content-restrictions'))\n",
    "re_pass.send_keys('covid69') #เปลี่ยน\n",
    "in_pass = driver.find_element(By.CLASS_NAME,('btn')).click()\n",
    "\n",
    "\n",
    "time.sleep(2)\n",
    "\n",
    "in_pass = driver.find_element(By.CSS_SELECTOR,(\"input[data-uia='pin-number-0']\"))\n",
    "in_pass.send_keys(Keys.DELETE)\n",
    "in_pass = driver.find_element(By.CSS_SELECTOR,(\"input[data-uia='pin-number-1']\"))\n",
    "in_pass.send_keys(Keys.DELETE)\n",
    "in_pass = driver.find_element(By.CSS_SELECTOR,(\"input[data-uia='pin-number-2']\"))\n",
    "in_pass.send_keys(Keys.DELETE)\n",
    "in_pass = driver.find_element(By.CSS_SELECTOR,(\"input[data-uia='pin-number-3']\"))\n",
    "in_pass.send_keys(Keys.DELETE)\n",
    "\n",
    "\n",
    "in_pass = driver.find_element(By.CSS_SELECTOR,(\"input[data-uia='pin-number-0']\")) #เปลี่ยน\n",
    "in_pass.send_keys('1')\n",
    "in_pass = driver.find_element(By.CSS_SELECTOR,(\"input[data-uia='pin-number-1']\")) #เปลี่ยน\n",
    "in_pass.send_keys('1')\n",
    "in_pass = driver.find_element(By.CSS_SELECTOR,(\"input[data-uia='pin-number-2']\")) #เปลี่ยน\n",
    "in_pass.send_keys('2')\n",
    "in_pass = driver.find_element(By.CSS_SELECTOR,(\"input[data-uia='pin-number-3']\")) #เปลี่ยน\n",
    "in_pass.send_keys('3')\n",
    "\n",
    "time.sleep(1)\n",
    "\n",
    "in_pass = driver.find_element(By.CLASS_NAME,('btn')).click()\n"
   ]
  },
  {
   "cell_type": "code",
   "execution_count": null,
   "metadata": {},
   "outputs": [],
   "source": []
  }
 ],
 "metadata": {
  "kernelspec": {
   "display_name": "Python 3.9.6 64-bit",
   "language": "python",
   "name": "python3"
  },
  "language_info": {
   "codemirror_mode": {
    "name": "ipython",
    "version": 3
   },
   "file_extension": ".py",
   "mimetype": "text/x-python",
   "name": "python",
   "nbconvert_exporter": "python",
   "pygments_lexer": "ipython3",
   "version": "3.9.6"
  },
  "orig_nbformat": 4,
  "vscode": {
   "interpreter": {
    "hash": "4f30ffcc4a969eb48aeee641dc27e38cb413e0a3167d8cff125b2b56aeba5431"
   }
  }
 },
 "nbformat": 4,
 "nbformat_minor": 2
}
